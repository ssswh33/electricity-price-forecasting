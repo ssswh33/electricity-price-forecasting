{
 "cells": [
  {
   "cell_type": "code",
   "execution_count": 1,
   "metadata": {},
   "outputs": [],
   "source": [
    "%matplotlib inline\n",
    "import pandas as pd\n",
    "import numpy as np\n",
    "import matplotlib.pyplot as plt\n",
    "from sklearn.metrics import mean_absolute_error # calculate MAE"
   ]
  },
  {
   "cell_type": "markdown",
   "metadata": {},
   "source": [
    "# Loading data"
   ]
  },
  {
   "cell_type": "code",
   "execution_count": 47,
   "metadata": {},
   "outputs": [],
   "source": [
    "df = pd.read_csv(\"NEE_DATA.csv\")  \n",
    "pred = pd.read_csv(\"predicted_values.csv\")"
   ]
  },
  {
   "cell_type": "code",
   "execution_count": 48,
   "metadata": {},
   "outputs": [
    {
     "data": {
      "text/plain": [
       "(26279, 56)"
      ]
     },
     "execution_count": 48,
     "metadata": {},
     "output_type": "execute_result"
    }
   ],
   "source": [
    "df.shape"
   ]
  },
  {
   "cell_type": "code",
   "execution_count": 49,
   "metadata": {},
   "outputs": [
    {
     "data": {
      "text/plain": [
       "(26279, 5)"
      ]
     },
     "execution_count": 49,
     "metadata": {},
     "output_type": "execute_result"
    }
   ],
   "source": [
    "pred.shape"
   ]
  },
  {
   "cell_type": "code",
   "execution_count": 50,
   "metadata": {
    "scrolled": true
   },
   "outputs": [
    {
     "data": {
      "text/html": [
       "<div>\n",
       "<style scoped>\n",
       "    .dataframe tbody tr th:only-of-type {\n",
       "        vertical-align: middle;\n",
       "    }\n",
       "\n",
       "    .dataframe tbody tr th {\n",
       "        vertical-align: top;\n",
       "    }\n",
       "\n",
       "    .dataframe thead th {\n",
       "        text-align: right;\n",
       "    }\n",
       "</style>\n",
       "<table border=\"1\" class=\"dataframe\">\n",
       "  <thead>\n",
       "    <tr style=\"text-align: right;\">\n",
       "      <th></th>\n",
       "      <th>DATETIME</th>\n",
       "      <th>DACONG</th>\n",
       "      <th>DAENERGY</th>\n",
       "      <th>DALMP</th>\n",
       "      <th>DALOSS</th>\n",
       "      <th>DARTCONG</th>\n",
       "      <th>RTENERGY</th>\n",
       "      <th>RTLMP</th>\n",
       "      <th>RTLOSS</th>\n",
       "      <th>CDD</th>\n",
       "      <th>...</th>\n",
       "      <th>WSI_TRADER_TEMP</th>\n",
       "      <th>HOURENDING</th>\n",
       "      <th>MARKETDAY</th>\n",
       "      <th>PEAKTYPE</th>\n",
       "      <th>MONTH</th>\n",
       "      <th>YEAR</th>\n",
       "      <th>DALOAD</th>\n",
       "      <th>RTLOAD</th>\n",
       "      <th>SEASON</th>\n",
       "      <th>LOGDALMP</th>\n",
       "    </tr>\n",
       "  </thead>\n",
       "  <tbody>\n",
       "    <tr>\n",
       "      <th>0</th>\n",
       "      <td>2017-01-01 01:00:00</td>\n",
       "      <td>0.0</td>\n",
       "      <td>34.86</td>\n",
       "      <td>34.84</td>\n",
       "      <td>-0.02</td>\n",
       "      <td>0.0</td>\n",
       "      <td>36.53</td>\n",
       "      <td>36.48</td>\n",
       "      <td>-0.05</td>\n",
       "      <td>0.0</td>\n",
       "      <td>...</td>\n",
       "      <td>38.8</td>\n",
       "      <td>1</td>\n",
       "      <td>2017-01-01 00:00:00</td>\n",
       "      <td>0</td>\n",
       "      <td>1</td>\n",
       "      <td>2017</td>\n",
       "      <td>2730.6</td>\n",
       "      <td>2842.3</td>\n",
       "      <td>4</td>\n",
       "      <td>3.550766</td>\n",
       "    </tr>\n",
       "    <tr>\n",
       "      <th>1</th>\n",
       "      <td>2017-01-01 02:00:00</td>\n",
       "      <td>0.0</td>\n",
       "      <td>33.72</td>\n",
       "      <td>33.80</td>\n",
       "      <td>0.08</td>\n",
       "      <td>0.0</td>\n",
       "      <td>37.02</td>\n",
       "      <td>37.01</td>\n",
       "      <td>-0.01</td>\n",
       "      <td>0.0</td>\n",
       "      <td>...</td>\n",
       "      <td>39.0</td>\n",
       "      <td>2</td>\n",
       "      <td>2017-01-01 00:00:00</td>\n",
       "      <td>0</td>\n",
       "      <td>1</td>\n",
       "      <td>2017</td>\n",
       "      <td>2583.5</td>\n",
       "      <td>2707.0</td>\n",
       "      <td>4</td>\n",
       "      <td>3.520461</td>\n",
       "    </tr>\n",
       "  </tbody>\n",
       "</table>\n",
       "<p>2 rows × 56 columns</p>\n",
       "</div>"
      ],
      "text/plain": [
       "              DATETIME  DACONG  DAENERGY  DALMP  DALOSS  DARTCONG  RTENERGY  \\\n",
       "0  2017-01-01 01:00:00     0.0     34.86  34.84   -0.02       0.0     36.53   \n",
       "1  2017-01-01 02:00:00     0.0     33.72  33.80    0.08       0.0     37.02   \n",
       "\n",
       "   RTLMP  RTLOSS  CDD  ...  WSI_TRADER_TEMP  HOURENDING            MARKETDAY  \\\n",
       "0  36.48   -0.05  0.0  ...             38.8           1  2017-01-01 00:00:00   \n",
       "1  37.01   -0.01  0.0  ...             39.0           2  2017-01-01 00:00:00   \n",
       "\n",
       "   PEAKTYPE  MONTH  YEAR  DALOAD  RTLOAD  SEASON  LOGDALMP  \n",
       "0         0      1  2017  2730.6  2842.3       4  3.550766  \n",
       "1         0      1  2017  2583.5  2707.0       4  3.520461  \n",
       "\n",
       "[2 rows x 56 columns]"
      ]
     },
     "execution_count": 50,
     "metadata": {},
     "output_type": "execute_result"
    }
   ],
   "source": [
    "df.head(2)"
   ]
  },
  {
   "cell_type": "code",
   "execution_count": 51,
   "metadata": {},
   "outputs": [],
   "source": [
    "DALMP = df.DALMP.values"
   ]
  },
  {
   "cell_type": "code",
   "execution_count": 14,
   "metadata": {},
   "outputs": [
    {
     "data": {
      "image/png": "[encoded data removed]",
      "text/plain": [
       "<Figure size 432x288 with 1 Axes>"
      ]
     },
     "metadata": {
      "needs_background": "light"
     },
     "output_type": "display_data"
    }
   ],
   "source": [
    "plt.hist(DALMP);"
   ]
  },
  {
   "cell_type": "code",
   "execution_count": 15,
   "metadata": {},
   "outputs": [],
   "source": [
    "test = df.loc[21142:,['DATETIME','DALMP','LOGDALMP','MONTH','HOURENDING','SEASON','PEAKTYPE']]"
   ]
  },
  {
   "cell_type": "code",
   "execution_count": 16,
   "metadata": {},
   "outputs": [
    {
     "data": {
      "text/html": [
       "<div>\n",
       "<style scoped>\n",
       "    .dataframe tbody tr th:only-of-type {\n",
       "        vertical-align: middle;\n",
       "    }\n",
       "\n",
       "    .dataframe tbody tr th {\n",
       "        vertical-align: top;\n",
       "    }\n",
       "\n",
       "    .dataframe thead th {\n",
       "        text-align: right;\n",
       "    }\n",
       "</style>\n",
       "<table border=\"1\" class=\"dataframe\">\n",
       "  <thead>\n",
       "    <tr style=\"text-align: right;\">\n",
       "      <th></th>\n",
       "      <th>DATETIME</th>\n",
       "      <th>DALMP</th>\n",
       "      <th>LOGDALMP</th>\n",
       "      <th>MONTH</th>\n",
       "      <th>HOURENDING</th>\n",
       "      <th>SEASON</th>\n",
       "      <th>PEAKTYPE</th>\n",
       "    </tr>\n",
       "  </thead>\n",
       "  <tbody>\n",
       "    <tr>\n",
       "      <th>21142</th>\n",
       "      <td>2019-06-01 00:00:00</td>\n",
       "      <td>20.56</td>\n",
       "      <td>3.023347</td>\n",
       "      <td>6</td>\n",
       "      <td>24</td>\n",
       "      <td>3</td>\n",
       "      <td>0</td>\n",
       "    </tr>\n",
       "    <tr>\n",
       "      <th>21143</th>\n",
       "      <td>2019-06-01 01:00:00</td>\n",
       "      <td>18.11</td>\n",
       "      <td>2.896464</td>\n",
       "      <td>6</td>\n",
       "      <td>1</td>\n",
       "      <td>1</td>\n",
       "      <td>0</td>\n",
       "    </tr>\n",
       "  </tbody>\n",
       "</table>\n",
       "</div>"
      ],
      "text/plain": [
       "                  DATETIME  DALMP  LOGDALMP  MONTH  HOURENDING  SEASON  \\\n",
       "21142  2019-06-01 00:00:00  20.56  3.023347      6          24       3   \n",
       "21143  2019-06-01 01:00:00  18.11  2.896464      6           1       1   \n",
       "\n",
       "       PEAKTYPE  \n",
       "21142         0  \n",
       "21143         0  "
      ]
     },
     "execution_count": 16,
     "metadata": {},
     "output_type": "execute_result"
    }
   ],
   "source": [
    "test.head(2)"
   ]
  },
  {
   "cell_type": "code",
   "execution_count": 17,
   "metadata": {},
   "outputs": [
    {
     "data": {
      "text/html": [
       "<div>\n",
       "<style scoped>\n",
       "    .dataframe tbody tr th:only-of-type {\n",
       "        vertical-align: middle;\n",
       "    }\n",
       "\n",
       "    .dataframe tbody tr th {\n",
       "        vertical-align: top;\n",
       "    }\n",
       "\n",
       "    .dataframe thead th {\n",
       "        text-align: right;\n",
       "    }\n",
       "</style>\n",
       "<table border=\"1\" class=\"dataframe\">\n",
       "  <thead>\n",
       "    <tr style=\"text-align: right;\">\n",
       "      <th></th>\n",
       "      <th>ds</th>\n",
       "      <th>yhat</th>\n",
       "      <th>yhat_lower</th>\n",
       "      <th>yhat_upper</th>\n",
       "      <th>DALMP</th>\n",
       "    </tr>\n",
       "  </thead>\n",
       "  <tbody>\n",
       "    <tr>\n",
       "      <th>0</th>\n",
       "      <td>2017-01-01 01:00:00</td>\n",
       "      <td>3.326183</td>\n",
       "      <td>2.968121</td>\n",
       "      <td>3.664869</td>\n",
       "      <td>27.831914</td>\n",
       "    </tr>\n",
       "    <tr>\n",
       "      <th>1</th>\n",
       "      <td>2017-01-01 02:00:00</td>\n",
       "      <td>3.275256</td>\n",
       "      <td>2.927455</td>\n",
       "      <td>3.608623</td>\n",
       "      <td>26.450002</td>\n",
       "    </tr>\n",
       "  </tbody>\n",
       "</table>\n",
       "</div>"
      ],
      "text/plain": [
       "                    ds      yhat  yhat_lower  yhat_upper      DALMP\n",
       "0  2017-01-01 01:00:00  3.326183    2.968121    3.664869  27.831914\n",
       "1  2017-01-01 02:00:00  3.275256    2.927455    3.608623  26.450002"
      ]
     },
     "execution_count": 17,
     "metadata": {},
     "output_type": "execute_result"
    }
   ],
   "source": [
    "pred.head(2)"
   ]
  },
  {
   "cell_type": "code",
   "execution_count": 18,
   "metadata": {},
   "outputs": [],
   "source": [
    "pred_sub = pred.loc[21142:,]"
   ]
  },
  {
   "cell_type": "code",
   "execution_count": 19,
   "metadata": {},
   "outputs": [
    {
     "data": {
      "text/html": [
       "<div>\n",
       "<style scoped>\n",
       "    .dataframe tbody tr th:only-of-type {\n",
       "        vertical-align: middle;\n",
       "    }\n",
       "\n",
       "    .dataframe tbody tr th {\n",
       "        vertical-align: top;\n",
       "    }\n",
       "\n",
       "    .dataframe thead th {\n",
       "        text-align: right;\n",
       "    }\n",
       "</style>\n",
       "<table border=\"1\" class=\"dataframe\">\n",
       "  <thead>\n",
       "    <tr style=\"text-align: right;\">\n",
       "      <th></th>\n",
       "      <th>ds</th>\n",
       "      <th>yhat</th>\n",
       "      <th>yhat_lower</th>\n",
       "      <th>yhat_upper</th>\n",
       "      <th>DALMP</th>\n",
       "    </tr>\n",
       "  </thead>\n",
       "  <tbody>\n",
       "    <tr>\n",
       "      <th>21142</th>\n",
       "      <td>2019-06-01 00:00:00</td>\n",
       "      <td>2.825816</td>\n",
       "      <td>2.476993</td>\n",
       "      <td>3.154911</td>\n",
       "      <td>16.874713</td>\n",
       "    </tr>\n",
       "    <tr>\n",
       "      <th>21143</th>\n",
       "      <td>2019-06-01 01:00:00</td>\n",
       "      <td>2.827073</td>\n",
       "      <td>2.493514</td>\n",
       "      <td>3.176227</td>\n",
       "      <td>16.895935</td>\n",
       "    </tr>\n",
       "  </tbody>\n",
       "</table>\n",
       "</div>"
      ],
      "text/plain": [
       "                        ds      yhat  yhat_lower  yhat_upper      DALMP\n",
       "21142  2019-06-01 00:00:00  2.825816    2.476993    3.154911  16.874713\n",
       "21143  2019-06-01 01:00:00  2.827073    2.493514    3.176227  16.895935"
      ]
     },
     "execution_count": 19,
     "metadata": {},
     "output_type": "execute_result"
    }
   ],
   "source": [
    "pred_sub.head(2)"
   ]
  },
  {
   "cell_type": "markdown",
   "metadata": {},
   "source": [
    "#### MAE/MAPE out of bound"
   ]
  },
  {
   "cell_type": "code",
   "execution_count": 20,
   "metadata": {},
   "outputs": [],
   "source": [
    "yhat_lower = pred_sub['yhat_lower'].values\n",
    "yhat_upper = pred_sub['yhat_upper'].values"
   ]
  },
  {
   "cell_type": "code",
   "execution_count": 21,
   "metadata": {},
   "outputs": [
    {
     "name": "stdout",
     "output_type": "stream",
     "text": [
      "5137  4281  856  0.1666342223087405\n"
     ]
    }
   ],
   "source": [
    "test_within = test[(test['LOGDALMP']>=yhat_lower) & (test['LOGDALMP']<=yhat_upper)]\n",
    "print(len(test.index),len(test_within),len(test.index)-len(test_within),\\\n",
    "      (len(test.index)-len(test_within))/len(test.index),sep=\"  \")"
   ]
  },
  {
   "cell_type": "code",
   "execution_count": 22,
   "metadata": {},
   "outputs": [],
   "source": [
    "pred_sub_within = pred_sub[(test['LOGDALMP']>=yhat_lower) & (test['LOGDALMP']<=yhat_upper)]"
   ]
  },
  {
   "cell_type": "code",
   "execution_count": 23,
   "metadata": {},
   "outputs": [
    {
     "data": {
      "text/plain": [
       "3.8791380702530747"
      ]
     },
     "execution_count": 23,
     "metadata": {},
     "output_type": "execute_result"
    }
   ],
   "source": [
    "MAE = mean_absolute_error(test_within['DALMP'].values,pred_sub_within['DALMP'].values)\n",
    "MAE"
   ]
  },
  {
   "cell_type": "code",
   "execution_count": 24,
   "metadata": {},
   "outputs": [
    {
     "name": "stdout",
     "output_type": "stream",
     "text": [
      "MAPE: 15.198217555384975\n"
     ]
    }
   ],
   "source": [
    "def MAPE(predict,target):\n",
    "    return ( abs((target - predict) / target).mean()) * 100\n",
    "\n",
    "print ('MAPE: ' + str(MAPE(test_within['DALMP'].values,pred_sub_within['DALMP'].values)))"
   ]
  },
  {
   "cell_type": "markdown",
   "metadata": {},
   "source": [
    "#### MAE/MAPE out of three standard deviations"
   ]
  },
  {
   "cell_type": "code",
   "execution_count": 25,
   "metadata": {},
   "outputs": [],
   "source": [
    "import statistics\n",
    "from statistics import median\n",
    "import astropy.stats \n",
    "from astropy.stats import median_absolute_deviation\n",
    "med_dp = median(df['DALMP'])\n",
    "mad_dp = median_absolute_deviation(df['DALMP'])\n",
    "threshold_dp = med_dp+3*mad_dp  # calculate outlier cut-off"
   ]
  },
  {
   "cell_type": "code",
   "execution_count": 26,
   "metadata": {},
   "outputs": [
    {
     "name": "stdout",
     "output_type": "stream",
     "text": [
      "190 | 0.03698656803581857\n",
      "(4947, 5)\n"
     ]
    },
    {
     "name": "stderr",
     "output_type": "stream",
     "text": [
      "C:\\Users\\sunwh\\Downloads\\Anaconda\\download\\lib\\site-packages\\ipykernel_launcher.py:1: UserWarning: Boolean Series key will be reindexed to match DataFrame index.\n",
      "  \"\"\"Entry point for launching an IPython kernel.\n",
      "C:\\Users\\sunwh\\Downloads\\Anaconda\\download\\lib\\site-packages\\ipykernel_launcher.py:7: UserWarning: Boolean Series key will be reindexed to match DataFrame index.\n",
      "  import sys\n"
     ]
    }
   ],
   "source": [
    "test2 = test[df['DALMP'] <= threshold_dp]\n",
    "print(len(test)-len(test2.index),(len(test)-len(test2.index))/len(test),sep=\" | \")\n",
    "\n",
    "test2.head(2)\n",
    "\n",
    "\n",
    "pred_sub2 = pred_sub[df['DALMP'] <= threshold_dp]\n",
    "\n",
    "print(pred_sub2.shape)"
   ]
  },
  {
   "cell_type": "code",
   "execution_count": 27,
   "metadata": {},
   "outputs": [
    {
     "data": {
      "text/plain": [
       "4.941347198358659"
      ]
     },
     "execution_count": 27,
     "metadata": {},
     "output_type": "execute_result"
    }
   ],
   "source": [
    "# withou outliers\n",
    "MAE = mean_absolute_error(test2.DALMP.values,pred_sub2.DALMP.values) \n",
    "MAE"
   ]
  },
  {
   "cell_type": "code",
   "execution_count": 28,
   "metadata": {},
   "outputs": [
    {
     "name": "stdout",
     "output_type": "stream",
     "text": [
      "MAPE: 19.44456796215201\n"
     ]
    }
   ],
   "source": [
    "def MAPE(predict,target):\n",
    "    return ( abs((target - predict) / target).mean()) * 100\n",
    "\n",
    "print ('MAPE: ' + str(MAPE(test2.DALMP.values,pred_sub2.DALMP.values)) )"
   ]
  },
  {
   "cell_type": "markdown",
   "metadata": {},
   "source": [
    "### Hourly,peaktype,monthly error metrics below"
   ]
  },
  {
   "cell_type": "markdown",
   "metadata": {},
   "source": [
    "#### Hourly MAE/MAPE"
   ]
  },
  {
   "cell_type": "code",
   "execution_count": 29,
   "metadata": {
    "scrolled": true
   },
   "outputs": [
    {
     "data": {
      "text/plain": [
       "array([ 1,  2,  3,  4,  5,  6,  7,  8,  9, 10, 11, 12, 13, 14, 15, 16, 17,\n",
       "       18, 19, 20, 21, 22, 23, 24], dtype=int64)"
      ]
     },
     "execution_count": 29,
     "metadata": {},
     "output_type": "execute_result"
    }
   ],
   "source": [
    "df.HOURENDING.unique()"
   ]
  },
  {
   "cell_type": "code",
   "execution_count": 30,
   "metadata": {},
   "outputs": [],
   "source": [
    "dict_hourly_mae = {}\n",
    "dict_hourly_mape = {}"
   ]
  },
  {
   "cell_type": "code",
   "execution_count": 31,
   "metadata": {},
   "outputs": [],
   "source": [
    "def hourlyMAE(df1,df2,price,dict_mae,dict_mape):\n",
    "    for i in range(1,25):\n",
    "        _df1= df1[df1['HOURENDING'] == i]\n",
    "        _df2= df2[df1['HOURENDING'] == i]\n",
    "        \n",
    "        MAE = mean_absolute_error(_df1[price].values,_df2[price].values) \n",
    "        \n",
    "        dict_mae[str(i)] = MAE\n",
    "        \n",
    "        def MAPE(predict,target):\n",
    "            MAPE = ( abs((target - predict) / target).mean()) * 100\n",
    "            return MAPE\n",
    "\n",
    "        dict_mape[str(i)] = MAPE(_df1[price].values,_df2[price].values)\n",
    "        \n",
    "        \n",
    "    return dict_mae, dict_mape"
   ]
  },
  {
   "cell_type": "code",
   "execution_count": 32,
   "metadata": {},
   "outputs": [],
   "source": [
    "hourlyMAE,hourlyMAPE = hourlyMAE(test2,pred_sub2,'DALMP',dict_hourly_mae,dict_hourly_mape)"
   ]
  },
  {
   "cell_type": "code",
   "execution_count": 33,
   "metadata": {},
   "outputs": [
    {
     "data": {
      "image/png": "[encoded data removed]",
      "text/plain": [
       "<Figure size 432x288 with 1 Axes>"
      ]
     },
     "metadata": {
      "needs_background": "light"
     },
     "output_type": "display_data"
    }
   ],
   "source": [
    "lists = hourlyMAE.items() # sorted by key, return a list of tuples\n",
    "\n",
    "x, y = zip(*lists) # unpack a list of pairs into two tuples\n",
    "\n",
    "plt.title('Hourly MAE')\n",
    "plt.plot(x, y)\n",
    "plt.show()"
   ]
  },
  {
   "cell_type": "code",
   "execution_count": 34,
   "metadata": {},
   "outputs": [
    {
     "name": "stdout",
     "output_type": "stream",
     "text": [
      "8\n"
     ]
    },
    {
     "data": {
      "image/png": "[encoded data removed]",
      "text/plain": [
       "<Figure size 432x288 with 1 Axes>"
      ]
     },
     "metadata": {
      "needs_background": "light"
     },
     "output_type": "display_data"
    }
   ],
   "source": [
    "lists = hourlyMAPE.items() # sorted by key, return a list of tuples\n",
    "\n",
    "x, y = zip(*lists) # unpack a list of pairs into two tuples\n",
    "count = 0\n",
    "for mape in y:\n",
    "    if mape > 20:\n",
    "        count+=1\n",
    "print(count)\n",
    "plt.title('Hourly MAPE')\n",
    "plt.axhline(20, ls='--',color='#636363')\n",
    "plt.plot(x, y)\n",
    "plt.show()"
   ]
  },
  {
   "cell_type": "markdown",
   "metadata": {},
   "source": [
    "#### On/Off Peak MAE/MAPE"
   ]
  },
  {
   "cell_type": "code",
   "execution_count": 35,
   "metadata": {},
   "outputs": [],
   "source": [
    "dict_peak_mae = {}\n",
    "dict_peak_mape = {}"
   ]
  },
  {
   "cell_type": "code",
   "execution_count": 36,
   "metadata": {},
   "outputs": [],
   "source": [
    "def Peak_Type_MAE(df1,df2,price,dict_mae,dict_mape):\n",
    "    for i in (0,1):\n",
    "        _df1= df1[df1['PEAKTYPE'] == i]\n",
    "        _df2= df2[df1['PEAKTYPE'] == i]\n",
    "        \n",
    "        MAE = mean_absolute_error(_df1[price].values,_df2[price].values) \n",
    "        \n",
    "        dict_mae[str(i)] = MAE\n",
    "        \n",
    "        def MAPE(predict,target):\n",
    "            MAPE = ( abs((target - predict) / target).mean()) * 100\n",
    "            return MAPE\n",
    "\n",
    "        dict_mape[str(i)] = MAPE(_df1[price].values,_df2[price].values)\n",
    "        \n",
    "        \n",
    "    return dict_mae,dict_mape"
   ]
  },
  {
   "cell_type": "code",
   "execution_count": 37,
   "metadata": {},
   "outputs": [],
   "source": [
    "pkMAE,pkMAPE=Peak_Type_MAE(test2,pred_sub2,'DALMP',dict_peak_mae,dict_peak_mape)"
   ]
  },
  {
   "cell_type": "code",
   "execution_count": 38,
   "metadata": {},
   "outputs": [
    {
     "data": {
      "image/png": "[encoded data removed]",
      "text/plain": [
       "<Figure size 432x288 with 1 Axes>"
      ]
     },
     "metadata": {
      "needs_background": "light"
     },
     "output_type": "display_data"
    }
   ],
   "source": [
    "lists = pkMAPE.items() # sorted by key, return a list of tuples\n",
    "\n",
    "x, y = zip(*lists) # unpack a list of pairs into two tuples\n",
    "\n",
    "plt.title('Peaktype MAPE')\n",
    "plt.plot(x, y)\n",
    "plt.show()"
   ]
  },
  {
   "cell_type": "markdown",
   "metadata": {},
   "source": [
    "#### Monthly MAE/MAPE"
   ]
  },
  {
   "cell_type": "code",
   "execution_count": 39,
   "metadata": {},
   "outputs": [
    {
     "data": {
      "text/plain": [
       "array([ 6,  7,  8,  9, 10, 11, 12], dtype=int64)"
      ]
     },
     "execution_count": 39,
     "metadata": {},
     "output_type": "execute_result"
    }
   ],
   "source": [
    "test.MONTH.unique()"
   ]
  },
  {
   "cell_type": "code",
   "execution_count": 40,
   "metadata": {},
   "outputs": [],
   "source": [
    "def monthlyMAE_MAPE(df1,df2,price,dict_mae,dict_mape):\n",
    "    for i in range(6,13):\n",
    "        _df1= df1[df1['MONTH'] == i]\n",
    "        _df2= df2[df1['MONTH'] == i]\n",
    "        \n",
    "        MAE = mean_absolute_error(_df1[price].values,_df2[price].values) \n",
    "        \n",
    "        dict_mae[str(i)] = MAE\n",
    "        \n",
    "        def MAPE(predict,target):\n",
    "            MAPE = ( abs((target - predict) / target).mean()) * 100\n",
    "            return MAPE\n",
    "\n",
    "        dict_mape[str(i)] = MAPE(_df1[price].values,_df2[price].values)\n",
    "        \n",
    "        \n",
    "    return dict_mae, dict_mape"
   ]
  },
  {
   "cell_type": "code",
   "execution_count": 41,
   "metadata": {},
   "outputs": [],
   "source": [
    "dict_month_mae = {}\n",
    "dict_month_mape = {}"
   ]
  },
  {
   "cell_type": "code",
   "execution_count": 42,
   "metadata": {},
   "outputs": [],
   "source": [
    "monthlyMAE,monthlyMAPE = monthlyMAE_MAPE(test2,pred_sub2,'DALMP',dict_month_mae,dict_month_mape)"
   ]
  },
  {
   "cell_type": "code",
   "execution_count": 43,
   "metadata": {
    "scrolled": true
   },
   "outputs": [
    {
     "name": "stdout",
     "output_type": "stream",
     "text": [
      "4\n"
     ]
    },
    {
     "data": {
      "image/png": "[encoded data removed]",
      "text/plain": [
       "<Figure size 432x288 with 1 Axes>"
      ]
     },
     "metadata": {
      "needs_background": "light"
     },
     "output_type": "display_data"
    }
   ],
   "source": [
    "lists = monthlyMAPE.items() # sorted by key, return a list of tuples\n",
    "\n",
    "x, y = zip(*lists) # unpack a list of pairs into two tuples\n",
    "\n",
    "count = 0\n",
    "for mape in y:\n",
    "    if mape > 20:\n",
    "        count+=1\n",
    "print(count)\n",
    "plt.axhline(20, ls='--',color='#636363')\n",
    "plt.title('Monthly MAPE')\n",
    "plt.plot(x, y)\n",
    "# plt.text(1,3,'lol',ha=\"left\", va=\"center\", size=20)\n",
    "plt.show()\n",
    "\n"
   ]
  },
  {
   "cell_type": "code",
   "execution_count": 53,
   "metadata": {
    "scrolled": true
   },
   "outputs": [
    {
     "data": {
      "image/png": "[encoded data removed]",
      "text/plain": [
       "<Figure size 432x288 with 1 Axes>"
      ]
     },
     "metadata": {
      "needs_background": "light"
     },
     "output_type": "display_data"
    }
   ],
   "source": [
    "lists = monthlyMAE.items() # sorted by key, return a list of tuples\n",
    "\n",
    "x, y = zip(*lists) # unpack a list of pairs into two tuples\n",
    "\n",
    "\n",
    "\n",
    "plt.title('Monthly MAE')\n",
    "plt.plot(x, y)\n",
    "\n",
    "plt.show()\n",
    "\n"
   ]
  },
  {
   "cell_type": "code",
   "execution_count": null,
   "metadata": {},
   "outputs": [],
   "source": []
  }
 ],
 "metadata": {
  "kernelspec": {
   "display_name": "Python 3",
   "language": "python",
   "name": "python3"
  },
  "language_info": {
   "codemirror_mode": {
    "name": "ipython",
    "version": 3
   },
   "file_extension": ".py",
   "mimetype": "text/x-python",
   "name": "python",
   "nbconvert_exporter": "python",
   "pygments_lexer": "ipython3",
   "version": "3.7.3"
  }
 },
 "nbformat": 4,
 "nbformat_minor": 4
}
